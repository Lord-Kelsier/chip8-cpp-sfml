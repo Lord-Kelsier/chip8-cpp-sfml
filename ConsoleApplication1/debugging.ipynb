{
 "cells": [
  {
   "cell_type": "markdown",
   "metadata": {},
   "source": [
    "# Testing instructions\n",
    "\n",
    "The first instruction to test is jumping because its needed to test other instructions and keep a infinite loop. "
   ]
  },
  {
   "cell_type": "markdown",
   "metadata": {},
   "source": [
    "## 1NNN - JP addr"
   ]
  },
  {
   "cell_type": "code",
   "execution_count": 1,
   "metadata": {},
   "outputs": [],
   "source": [
    "def writeGameData(gameData):\n",
    "    with open(\"DEBUGGAME\", \"wb\") as f:\n",
    "        for b in gameData:\n",
    "            f.write(b.to_bytes(1, byteorder='big'))\n",
    "        print(\"Game data written to DEBUGGAME\")"
   ]
  },
  {
   "cell_type": "code",
   "execution_count": 5,
   "metadata": {},
   "outputs": [
    {
     "name": "stdout",
     "output_type": "stream",
     "text": [
      "Game data written to DEBUGGAME\n"
     ]
    }
   ],
   "source": [
    "gameData = [\n",
    "    0x12,0x10, # jump 1\n",
    "    0x12, 0x13, # jump 3\n",
    "    0x00, 0x00, 0x00, 0x00, 0x00, 0x00, 0x00, 0x00, 0x00, 0x00, 0x00, 0x00,\n",
    "    0x12, 0x02, # jump 2\n",
    "    0x00,\n",
    "    0x12, 0x10 # jump 4\n",
    "]\n",
    "# 1210 1202 1213 1210 ...\n",
    "writeGameData(gameData)"
   ]
  },
  {
   "cell_type": "code",
   "execution_count": 9,
   "metadata": {},
   "outputs": [
    {
     "name": "stdout",
     "output_type": "stream",
     "text": [
      "FUNCIONA TODO BIEN\n"
     ]
    }
   ],
   "source": [
    "pattern = [\"210\", \"202\", \"213\"]\n",
    "with open(\"opcodes.log\", \"r\") as f:\n",
    "    pc = f.readline().strip().split(\" \")[-1]\n",
    "    if pc != \"200\":\n",
    "        print(\"PC is not 200, it is\", pc)\n",
    "        exit(1)\n",
    "    newLine = f.readline().strip()\n",
    "    iter = 0\n",
    "    while newLine:\n",
    "        pc = newLine.split(\" \")[-1]\n",
    "        if pc != pattern[iter % 3]:\n",
    "            print(\"error Found\", pc, \"expected\", pattern[iter % 3], \"at\", iter + 2)\n",
    "            raise Exception(\"Error\")\n",
    "        iter += 1\n",
    "        newLine = f.readline().strip()\n",
    "print(\"FUNCIONA TODO BIEN\")"
   ]
  },
  {
   "cell_type": "markdown",
   "metadata": {},
   "source": [
    "## 00E0 - Clear the display\n",
    "Test first show to display"
   ]
  },
  {
   "cell_type": "code",
   "execution_count": null,
   "metadata": {},
   "outputs": [],
   "source": [
    "gameData = [\n",
    "    0x00, 0xe0,\n",
    "    \n",
    "    \n",
    "]"
   ]
  }
 ],
 "metadata": {
  "kernelspec": {
   "display_name": "Python 3",
   "language": "python",
   "name": "python3"
  },
  "language_info": {
   "codemirror_mode": {
    "name": "ipython",
    "version": 3
   },
   "file_extension": ".py",
   "mimetype": "text/x-python",
   "name": "python",
   "nbconvert_exporter": "python",
   "pygments_lexer": "ipython3",
   "version": "3.11.0"
  }
 },
 "nbformat": 4,
 "nbformat_minor": 2
}
